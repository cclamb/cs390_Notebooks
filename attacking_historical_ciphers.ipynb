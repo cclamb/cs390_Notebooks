{
 "cells": [
  {
   "cell_type": "markdown",
   "metadata": {},
   "source": [
    "# Attacking Historical Ciphers\n",
    "\n",
    "There's a variety of techniques we can use to attack historical ciphers. We're going to take a look at some of these techniques in the scope of these simpler, historical ciphers first.\n",
    "\n",
    "We'll start with the **Atbash cipher**.\n",
    "\n",
    "We're also going to include the simple_ciphers module that we created to encapsulate the historical ciphers from the first notebook."
   ]
  },
  {
   "cell_type": "code",
   "execution_count": null,
   "metadata": {},
   "outputs": [],
   "source": [
    "import simple_ciphers as sc\n",
    "\n",
    "letters = list(map(chr, range(65, 91)))\n",
    "letters.append(' ')\n",
    "\n",
    "atbash = sc.Atbash(alphabet=letters)"
   ]
  },
  {
   "cell_type": "markdown",
   "metadata": {},
   "source": [
    "If we have the ciphertext and the plaintext, substitution ciphers are trivial to break."
   ]
  },
  {
   "cell_type": "code",
   "execution_count": null,
   "metadata": {},
   "outputs": [],
   "source": [
    "message = 'The brown fox jumped over the lazy dog'\n",
    "ciphertext = atbash.encipher(plaintext=message)\n",
    "message = message.upper()\n",
    "\n",
    "decryption_key = {}\n",
    "for idx, c in enumerate(message):\n",
    "    decryption_key[c] = ciphertext[idx]\n",
    "\n",
    "key_list = list(decryption_key.keys())\n",
    "key_list.sort()\n",
    "\n",
    "print('Partial Encryption Transformation')\n",
    "for key in key_list:\n",
    "    print('{} -> {}'.format(key, decryption_key[key]))"
   ]
  },
  {
   "cell_type": "markdown",
   "metadata": {},
   "source": [
    "Looking at this, it's pretty clear we have an Atbash cipher."
   ]
  },
  {
   "cell_type": "markdown",
   "metadata": {},
   "source": [
    "What if we don't have plaintext though? what then? Well, we can still attack the cipher using statistics. Specifically, we take the ciphertext, generate a random key, and attempt to use that key to decipher the ciphertext. We then use a fitness measure to determine how close we are to generating actual words. We repeat this until we seem to have a reasonable score. This is the **hillclimbing algorithm**."
   ]
  },
  {
   "cell_type": "code",
   "execution_count": null,
   "metadata": {},
   "outputs": [],
   "source": [
    "import random as r\n",
    "import math as m\n",
    "import ngram as ng\n",
    "\n",
    "class HillClimbing:\n",
    "    \n",
    "    def _mutate(self, decryption_key):\n",
    "        keys = list(decryption_key.keys())\n",
    "        idx_0, idx_1 = r.randint(0, len(keys) - 1), r.randint(0, len(keys) - 1)\n",
    "        temp = decryption_key[keys[idx_0]]\n",
    "        decryption_key[keys[idx_0]] = decryption_key[keys[idx_1]]\n",
    "        decryption_key[keys[idx_1]] = temp\n",
    "        return decryption_key\n",
    "    \n",
    "    def _generate_random_key(self, alphabet):\n",
    "        parent = alphabet.copy()\n",
    "        r.shuffle(parent, r.random)\n",
    "        return sc.create_decryption_key(symbols=alphabet, key_symbols=parent)\n",
    "        \n",
    "    def __call__(self, alphabet, ciphertext):\n",
    "        \n",
    "        # Defining the best scores.\n",
    "        best_score = {'score': -99e9, 'key': None, 'plaintext': None}\n",
    "        \n",
    "        while True:\n",
    "            # Generate the random key.\n",
    "            potential_key = self._generate_random_key(alphabet)\n",
    "\n",
    "            # Attempt to decipher the ciphertext.\n",
    "            plaintext = sc.decipher(message=ciphertext, decryption_key=potential_key)\n",
    "\n",
    "            # Initialize the N-Gram scoring class.\n",
    "            evaluator = ng.ngram_score('english_quadgrams.txt')\n",
    "\n",
    "            # Evaluate the ciphertext score.\n",
    "            score = evaluator(plaintext)\n",
    "\n",
    "            # Save the current best loop key and score\n",
    "            loop_score = {'score': score, 'key': potential_key, 'plaintext': plaintext}\n",
    "\n",
    "            cnt = 0\n",
    "            while cnt < 1000:\n",
    "                # Mutate the key\n",
    "                potential_key = self._mutate(decryption_key=potential_key)\n",
    "\n",
    "                # Attempt to decipher the ciphertext.\n",
    "                plaintext = sc.decipher(message=ciphertext, decryption_key=potential_key)\n",
    "\n",
    "                # Evaluate the ciphertext score.\n",
    "                score = evaluator(plaintext)\n",
    "\n",
    "                # Did we beat our best? then save it!\n",
    "                if score > loop_score['score']:\n",
    "                    cnt = 0\n",
    "                    loop_score['score'] = score\n",
    "                    loop_score['key'] = potential_key\n",
    "                    loop_score['plaintext'] = plaintext\n",
    "                    \n",
    "                # Increment the counter.\n",
    "                cnt += 1\n",
    "                \n",
    "            if loop_score['score'] > best_score['score']:\n",
    "                best_score['score'] = loop_score['score']\n",
    "                best_score['key'] = loop_score['key']\n",
    "                best_score['plaintext'] = loop_score['plaintext']\n",
    "                print('({}) {}'.format(best_score['score'], best_score['plaintext']))\n",
    "\n",
    "message = 'The brown fox jumped over the lazy dog'\n",
    "ciphertext = atbash.encipher(plaintext=message)\n",
    "key = HillClimbing()(\n",
    "    alphabet=letters, \n",
    "    ciphertext=ciphertext\n",
    ")"
   ]
  },
  {
   "cell_type": "markdown",
   "metadata": {},
   "source": [
    "You might have noticed, you need to explicitly stop the algorithm by pressing the stop button at the top of the notebook. The hillclimbing algorithm works, but it can take FOREVER. I suggest you copy this out of this notebook and run it as a script if you want to see it in action. Our case is a bit harder because we added a space (i.e. ' ') to our alphabet too, so it can be more difficult to see the plaintext start to emerge."
   ]
  }
 ],
 "metadata": {
  "kernelspec": {
   "display_name": "Python 3",
   "language": "python",
   "name": "python3"
  },
  "language_info": {
   "codemirror_mode": {
    "name": "ipython",
    "version": 3
   },
   "file_extension": ".py",
   "mimetype": "text/x-python",
   "name": "python",
   "nbconvert_exporter": "python",
   "pygments_lexer": "ipython3",
   "version": "3.7.3"
  }
 },
 "nbformat": 4,
 "nbformat_minor": 2
}
