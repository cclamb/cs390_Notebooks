{
 "cells": [
  {
   "cell_type": "markdown",
   "metadata": {},
   "source": [
    "# Historical Ciphers\n",
    "\n",
    "This first cipher is an **Atbash cipher**. This is a simple substitution cipher. We've tweaked it to encipher spaces too. It's over 2000 years old, and was used to encrypt the Hebrew alphabet. It's a special case of an Affine cipher (we'll go into more of this shortly), and an example of a substitution cipher."
   ]
  },
  {
   "cell_type": "code",
   "execution_count": null,
   "metadata": {},
   "outputs": [],
   "source": [
    "import itertools as it\n",
    "\n",
    "letters = list(map(chr, range(65, 91)))\n",
    "letters.append(' ')\n",
    "\n",
    "reversed_letters = letters.copy()\n",
    "reversed_letters.reverse()\n",
    "\n",
    "encryption_key = dict(it.zip_longest(letters, reversed_letters))\n",
    "decryption_key = dict(it.zip_longest(reversed_letters, letters))\n",
    "\n",
    "msg = \"Hey this is a sooper sekkrit message\"\n",
    "upper_case_msg = msg.upper()\n",
    "\n",
    "encrypted_msg = [encryption_key[x] for x in upper_case_msg]\n",
    "print('Encrypted message: {}'.format(''.join(encrypted_msg)))\n",
    "\n",
    "decrypted_msg = [decryption_key[x] for x in encrypted_msg]\n",
    "print('Decrypted message: {}'.format(''.join(decrypted_msg)))"
   ]
  },
  {
   "cell_type": "markdown",
   "metadata": {},
   "source": [
    "Next, we'll take a look at the **ROT13 cipher**. In this cipher, we take the letters of an alphabet and offset them 13 places. It's a specific case of a **Caesar** cipher with 13 as the key. Also, notice that we just created the encipher_decipher function; we were going to reuse that block of code from the above example, so instead of cutting and pasting, we just created a new function.\n",
    "\n",
    "Also, if you look at the function we defined, we're using a new python feature - named arguments. We invoke the function naming the arguments. This can make code a bit easier to read."
   ]
  },
  {
   "cell_type": "code",
   "execution_count": null,
   "metadata": {},
   "outputs": [],
   "source": [
    "shifted_letters = [letters[(idx + 13) % len(letters)] for idx, x in enumerate(letters)]\n",
    "encryption_key = dict(it.zip_longest(letters, shifted_letters))\n",
    "decryption_key = dict(it.zip_longest(shifted_letters, letters))\n",
    "\n",
    "def encipher_decipher(message, decryption_key, encryption_key):\n",
    "    upper_case_msg = msg.upper()\n",
    "    encrypted_msg = [encryption_key[x] for x in upper_case_msg]\n",
    "    print('Encrypted message: {}'.format(''.join(encrypted_msg)))\n",
    "    decrypted_msg = [decryption_key[x] for x in encrypted_msg]\n",
    "    print('Decrypted message: {}'.format(''.join(decrypted_msg)))\n",
    "    \n",
    "encipher_decipher(message=msg, decryption_key=decryption_key, encryption_key=encryption_key)"
   ]
  },
  {
   "cell_type": "markdown",
   "metadata": {},
   "source": [
    "Now onto the **Caesar cipher**! Hey, we're moving forward, but we're still over 2,000 years in the past (well, not really ROT13 isn't that old. But it is that bad.) Supposedly, Julius Caesar used this cipher to communicate with his Generals in the field. Really, ROT13 is just another Ceasar sipher, with N = 13.\n",
    "\n",
    "All we do with this cipher is shift the alphabet by some number of places N, wrapping around to the beginning. So, for example, if we have a Caesar cipher with $N=1$, the letter *Z*, when enciphered, will become *A*. Let's implement it."
   ]
  },
  {
   "cell_type": "code",
   "execution_count": null,
   "metadata": {},
   "outputs": [],
   "source": [
    "spaces_to_shift = 17\n",
    "shifted_letters = [\n",
    "    letters[(idx + spaces_to_shift) % len(letters)] \n",
    "    for idx, x \n",
    "    in enumerate(letters)\n",
    "]\n",
    "encryption_key = dict(it.zip_longest(letters, shifted_letters))\n",
    "decryption_key = dict(it.zip_longest(shifted_letters, letters))\n",
    "\n",
    "encipher_decipher(message=msg, decryption_key=decryption_key, encryption_key=encryption_key)"
   ]
  },
  {
   "cell_type": "markdown",
   "metadata": {},
   "source": [
    "Let's look at a couple of things in the above implementation. I specifically want to look at this line:\n",
    "\n",
    "    spaces_to_shift = 17\n",
    "    shifted_letters = [\n",
    "        letters[(idx + spaces_to_shift) % len(letters)] \n",
    "        for idx, x \n",
    "        in enumerate(letters)\n",
    "    ]\n",
    "    \n",
    "Notice that, here, I've replaced the *13* with the variable *spaces_to_shift*. Note that I've also used the shift *mod* the number of elements in the letters list. This is very important  - this is how we implement that kind of \"wrapping around\" behavior I mentioned. I'm also using the enumerate() function. This function will enumerate the elements in letters, returning the location and the value (try running *help(enumerate)* for more information."
   ]
  },
  {
   "cell_type": "markdown",
   "metadata": {},
   "source": [
    "Now, let's take a an **Affine Cipher**. These are a bit more complex. In an Affine cipher, you need two numbers $a$ and $b$, and they need to be *relatively prime*, by which I mean they can't share factors. Prime numbers are always relatively prime, but numbers like 12 and 25 are relatively prime, but not prime. Even numbers can never be relatively prime as they both have a factor of two, but even and odd numbers may be (as may odd and odd numbers, but that's not guaranteed).\n",
    "\n",
    "First, we need to assign a number value $l$ to a letter (we've done this many times before). Then, we caculate the new value by calculating the new number $l' = al + b \\pmod n$, where $n$ is the size of the alphabet, and then mapping that new number $l'$ to a new letter. You invert this to $l = \\frac{( l' - b )}{a} \\pmod n$."
   ]
  },
  {
   "cell_type": "code",
   "execution_count": null,
   "metadata": {},
   "outputs": [],
   "source": [
    "a = 7\n",
    "b = 17\n",
    "affine_letters = [\n",
    "    letters[(a * l + b) % len(letters)]\n",
    "    for l, x\n",
    "    in enumerate(letters)\n",
    "]\n",
    "\n",
    "def create_keys(symbols, key_symbols):\n",
    "    return (\n",
    "        dict(it.zip_longest(symbols, key_symbols)),\n",
    "        dict(it.zip_longest(key_symbols, symbols))\n",
    "    )\n",
    "\n",
    "encryption_key, decryption_key = create_keys(symbols=letters, key_symbols=affine_letters)\n",
    "encipher_decipher(message=msg, decryption_key=decryption_key, encryption_key=encryption_key)"
   ]
  },
  {
   "cell_type": "markdown",
   "metadata": {},
   "source": [
    "We've done a couple of new things here too! So first, let's talk about the affine transform:\n",
    "\n",
    "    affine_letters = [\n",
    "        letters[(a * l + b) % len(letters)]\n",
    "        for idx, x\n",
    "        in enumerate(letters)\n",
    "    ]\n",
    "    \n",
    "The magic here happens in the second line. Here, we use the equation $l' = al + b \\pmod n$, and then I extract the letter associated with $l'$ and add it to the affine_letters list.\n",
    "\n",
    "I've also created a new function - create_keys(). I noticed that we kept repeating this pattern of code, so it made sense to incorporate this into a separate function. Also note that I return a tuple from this method, which allows me to return more than one return value. Remember, tuples can be split on the command line to support automatic partitioning into two separate values. If I assign the returned tuple (a single object) to two variables, python will automatically index into the tuple and extract the values. You can do the same thing with lists."
   ]
  }
 ],
 "metadata": {
  "kernelspec": {
   "display_name": "Python 3",
   "language": "python",
   "name": "python3"
  },
  "language_info": {
   "codemirror_mode": {
    "name": "ipython",
    "version": 3
   },
   "file_extension": ".py",
   "mimetype": "text/x-python",
   "name": "python",
   "nbconvert_exporter": "python",
   "pygments_lexer": "ipython3",
   "version": "3.7.3"
  }
 },
 "nbformat": 4,
 "nbformat_minor": 2
}
