{
 "cells": [
  {
   "cell_type": "markdown",
   "metadata": {},
   "source": [
    "# Data Types\n",
    "\n",
    "Python has a range of fun basic data types! Also, it uses indentation to indicate functional blocks, which is rare today. You'll see what I mean as we go through this tutorial."
   ]
  },
  {
   "cell_type": "code",
   "execution_count": 5,
   "metadata": {},
   "outputs": [
    {
     "name": "stdout",
     "output_type": "stream",
     "text": [
      "<class 'int'>\n",
      "yep, imma string\n",
      "im printing stuff  -> 1 : 2.0\n"
     ]
    }
   ],
   "source": [
    "i = 1\n",
    "print(type(i))\n",
    "f = 2.0\n",
    "s = 'imma string'\n",
    "\n",
    "s_1 = 'yep, ' + s\n",
    "print(s_1)\n",
    "\n",
    "print('im printing stuff  -> {} : {}'.format(i, f))"
   ]
  },
  {
   "cell_type": "markdown",
   "metadata": {},
   "source": [
    "## This is a Markdown Cell\n",
    "\n",
    "Notice the above is a heading"
   ]
  },
  {
   "cell_type": "markdown",
   "metadata": {},
   "source": [
    "# Basic Data Structures\n",
    "\n",
    "Introducing basic data structures like tuples, lists and dictionaries."
   ]
  },
  {
   "cell_type": "code",
   "execution_count": 12,
   "metadata": {},
   "outputs": [
    {
     "name": "stdout",
     "output_type": "stream",
     "text": [
      "(1, 2, 3)\n",
      "1 2 3\n",
      "[1, 2, 3, 4]\n",
      "{'key_1': 1, 'key_a': 'a'}\n",
      "2\n",
      "a\n",
      "1a\n",
      "<class 'dict_keys'>\n",
      "[2, 4]\n"
     ]
    }
   ],
   "source": [
    "t = (1, 2, 3)\n",
    "a, b, c = t\n",
    "\n",
    "print(t)\n",
    "print(a, b, c)\n",
    "\n",
    "l_0 = [1, 2, 3, 4]\n",
    "d_0 = {'key_1': 1, 'key_a': 'a'}\n",
    "\n",
    "print(l_0)\n",
    "print(d_0)\n",
    "\n",
    "print(l_0[1])\n",
    "print(d_0['key_a'])\n",
    "\n",
    "d_k = d_0.keys()\n",
    "d_v = d_0.values()\n",
    "\n",
    "for key in d_k:\n",
    "    print(d_0[key], end='')\n",
    "\n",
    "print('')\n",
    "    \n",
    "print(type(d_k))\n",
    "\n",
    "l_e = [x for x in l_0 if x % 2 == 0]\n",
    "print(l_e)"
   ]
  },
  {
   "cell_type": "markdown",
   "metadata": {},
   "source": [
    "# More Complex Data Structures\n",
    "\n",
    "We can have lists of lists and dicts of lists and so on!"
   ]
  },
  {
   "cell_type": "code",
   "execution_count": 18,
   "metadata": {},
   "outputs": [
    {
     "name": "stdout",
     "output_type": "stream",
     "text": [
      "[[1, 2, 3], [4, 5, 6], [7, 8, 9]]\n",
      "6\n",
      "{'a': [1, 2, 3], 'b': [4, 5, 6]}\n",
      "5\n",
      "['H', 'O', 'W', 'D', 'Y', 'H', 'O', 'W', 'D', 'Y', 'H', 'O', 'W', 'D', 'Y']\n",
      "Y D W O H Y D W O H Y D W O H "
     ]
    }
   ],
   "source": [
    "l_l = [[1, 2, 3], [4, 5, 6], [7, 8, 9]]\n",
    "print(l_l)\n",
    "print(l_l[1][2])\n",
    "\n",
    "d_l = {'a': [1, 2, 3], 'b': [4, 5, 6]}\n",
    "print(d_l)\n",
    "print(d_l['b'][1])\n",
    "\n",
    "s = 'howdyhowdyhowdy'\n",
    "stack = []\n",
    "for c in s:\n",
    "    stack.append(c.upper())\n",
    "print(stack)\n",
    "while len(stack) > 0:\n",
    "    print(stack.pop(), end=' ')"
   ]
  },
  {
   "cell_type": "markdown",
   "metadata": {},
   "source": [
    "# Functions and Formatting Code\n",
    "\n",
    "We can encapsulate code into functions for reuse."
   ]
  },
  {
   "cell_type": "code",
   "execution_count": 21,
   "metadata": {},
   "outputs": [
    {
     "name": "stdout",
     "output_type": "stream",
     "text": [
      "printer\n",
      "printer: it\n",
      "printer: not it\n"
     ]
    }
   ],
   "source": [
    "def printer():\n",
    "    print('printer')\n",
    "    \n",
    "def print_it(msg='not it'):\n",
    "    print('printer: {}'.format(msg))\n",
    "    \n",
    "printer()\n",
    "print_it('it')\n",
    "print_it()"
   ]
  },
  {
   "cell_type": "markdown",
   "metadata": {},
   "source": [
    "## A Note on Scripts...\n",
    "\n",
    "...if you are running a script from the command line, you have two options for your code. You can place it all in a file, and the commands will execute. It would look something like this:\n",
    "\n",
    "    def function():\n",
    "        # ...some code\n",
    "    \n",
    "    function()\n",
    "\n",
    "or, like this:\n",
    "\n",
    "    def function():\n",
    "        # ...some code\n",
    "        \n",
    "    if __name__ == '__main__':\n",
    "        function()\n",
    "        \n",
    "In the second case, you run the script as a program if it is invoked as one. You can also use it as a module or library and call the functions contained. Always use the second, not the first.\n",
    "\n",
    "To run a script, you need to invoke python, then the script name:\n",
    "\n",
    "    $ python script.py\n",
    "    \n",
    "You can also use a #!, but there's no need.\n",
    "    \n",
    "Note that, by convention, scripts end with a '.py' suffix.\n",
    "\n",
    "# Objects and Programming Interfaces\n",
    "\n",
    "So objects all have a particular API. You can see that API by going to the python documentation site (https://docs.python.org/3/library/). Let's take a look at some other ways you can look up this kind of information."
   ]
  },
  {
   "cell_type": "code",
   "execution_count": 27,
   "metadata": {},
   "outputs": [
    {
     "name": "stdout",
     "output_type": "stream",
     "text": [
      "imma nother string\n"
     ]
    }
   ],
   "source": [
    "s_2 = 'imma nother string'\n",
    "print(s_2)\n"
   ]
  },
  {
   "cell_type": "markdown",
   "metadata": {},
   "source": [
    "# Flow Control and Looping\n",
    "\n",
    "We have the usual flow control and looping constructs, including while and for loops, and if structures."
   ]
  },
  {
   "cell_type": "code",
   "execution_count": 32,
   "metadata": {},
   "outputs": [
    {
     "name": "stdout",
     "output_type": "stream",
     "text": [
      "was true!\n",
      "if -> True : True\n",
      "else if -> True : False\n",
      "else -> fall through\n",
      "oh yeah :-)\n",
      "oh noes :-(\n"
     ]
    }
   ],
   "source": [
    "def iffer(flag):\n",
    "    if flag:\n",
    "        print('was true!')\n",
    "        \n",
    "iffer(False)\n",
    "iffer(True)\n",
    "\n",
    "def elser(flag_1, flag_2):\n",
    "    if flag_1 and flag_2:\n",
    "        print('if -> {} : {}'.format(flag_1, flag_2))\n",
    "    elif flag_1 and not flag_2:\n",
    "        print('else if -> {} : {}'.format(flag_1, flag_2))\n",
    "    else:\n",
    "        print('else -> fall through')\n",
    "        \n",
    "elser(True, True)\n",
    "elser(True, False)\n",
    "elser(False, False)\n",
    "\n",
    "def returner(flag):\n",
    "    return_value = 'oh yeah :-)' if flag else 'oh noes :-('\n",
    "    return return_value\n",
    "\n",
    "print(returner(True))\n",
    "print(returner(False))"
   ]
  },
  {
   "cell_type": "markdown",
   "metadata": {},
   "source": [
    "## ...onto loops\n",
    "\n",
    "Now let's check out some loops."
   ]
  },
  {
   "cell_type": "code",
   "execution_count": 35,
   "metadata": {},
   "outputs": [
    {
     "name": "stdout",
     "output_type": "stream",
     "text": [
      " a  b  c  d  e \n",
      " 2  3  4  5  6  7  8  9 \n",
      "0 1 2 3 4 "
     ]
    }
   ],
   "source": [
    "l_s = ['a', 'b', 'c', 'd', 'e']\n",
    "for s in l_s:\n",
    "    print(' {} '.format(s), end='')\n",
    "    \n",
    "print('')\n",
    "    \n",
    "for i in range(2, 10):\n",
    "    print(' {} '.format(i), end='')\n",
    "    \n",
    "print('')\n",
    "\n",
    "cnt = 0\n",
    "while cnt < 5:\n",
    "    print(cnt, end=' ')\n",
    "    cnt += 1 # cnt += 1 is the same as cnt = cnt + 1\n",
    "    "
   ]
  },
  {
   "cell_type": "markdown",
   "metadata": {},
   "source": [
    "This is just scratching the surface to get you started. There's lots more to Python - if you're interested in additional information, you can check out the Python tutorial (https://docs.python.org/3/tutorial/)."
   ]
  }
 ],
 "metadata": {
  "kernelspec": {
   "display_name": "Python 3",
   "language": "python",
   "name": "python3"
  },
  "language_info": {
   "codemirror_mode": {
    "name": "ipython",
    "version": 3
   },
   "file_extension": ".py",
   "mimetype": "text/x-python",
   "name": "python",
   "nbconvert_exporter": "python",
   "pygments_lexer": "ipython3",
   "version": "3.7.3"
  }
 },
 "nbformat": 4,
 "nbformat_minor": 2
}
