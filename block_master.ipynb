{
 "cells": [
  {
   "cell_type": "markdown",
   "metadata": {},
   "source": [
    "So first, let's take a look at how a block cipher works. This is contrived, in that we're using ciphers that don't require blocking, but bear with me. This illustrates the concept. We're going to start with a string, then block that string into groups of five characters, encrypt those blocks, and concatenate them."
   ]
  },
  {
   "cell_type": "code",
   "execution_count": 2,
   "metadata": {},
   "outputs": [
    {
     "name": "stdout",
     "output_type": "stream",
     "text": [
      "<=== (<class 'simple_ciphers.Vigenere'>)\n",
      "Blocked ciphertext\t BZSWGASCSMXWBWCSCBMRUWCWYOWHBV\n",
      "Non-blocked ciphertext\t BZSWGASCSMXWBWCSCBMRUWCWYOW\n",
      "===>\n",
      "<=== (<class 'simple_ciphers.Bifid'>)\n",
      "Blocked ciphertext\t WTTNZCVXLPHSEPRDZIWTHSNGCHDXGS\n",
      "Non-blocked ciphertext\t WTTNZCVXLPHSEPRDZIWTHSNGCHR\n",
      "===>\n"
     ]
    }
   ],
   "source": [
    "import simple_ciphers as sc\n",
    "\n",
    "def apply_cipher(cipher, plaintext):\n",
    "    # Make upper case and remove spaces prior to slicing\n",
    "    plaintext = plaintext.upper().strip().replace(' ', '')\n",
    "    \n",
    "    # Make slices in groups of 5 or less\n",
    "    slices = [plaintext[i:i+5] for i in range(0, len(plaintext), 5)]\n",
    "    \n",
    "    # Pad any slices less than five characters long\n",
    "    slices = [slice if len(slice) == 5 else slice + 'X' * (5 - len(slice)) for slice in slices]\n",
    "\n",
    "    # encipher the processed slices\n",
    "    enciphered_slices = [cipher.encipher(slice) for slice in slices]\n",
    "    \n",
    "    # Let's see what we have!\n",
    "    print('<=== ({})'.format(type(cipher)))\n",
    "    print('Blocked ciphertext\\t {}'.format(''.join(enciphered_slices)))\n",
    "    print('Non-blocked ciphertext\\t {}'.format(cipher.encipher(plaintext)))\n",
    "    print('===>')\n",
    "\n",
    "plaintext = 'This is a sooper sekkrit message'\n",
    "\n",
    "vigenere = sc.Vigenere('iskey')\n",
    "apply_cipher(cipher=vigenere, plaintext=plaintext)\n",
    "\n",
    "bifid = sc.Bifid()\n",
    "apply_cipher(cipher=bifid, plaintext=plaintext)\n"
   ]
  },
  {
   "cell_type": "markdown",
   "metadata": {},
   "source": [
    "Well, this doesn't do much for us, does it? I mean, the blocked and non-blocked ciphertext are the same. Let's introduce something new - a string that we'll prepend to each block. We'll call this an initialization vector, or an IV for short. Let's see what this does.\n",
    "\n",
    "This is called __Electronic Codebook Mode__, and is a mode in which we can use block ciphers. It's pretty simple, but not very effective, even when using more complex ciphers. A big problem with ECB is enciphering the same string with the same key. This will yield the same ciphertext, and this really helps crypanalysts, so you want to avoid it in ciphers you develop."
   ]
  },
  {
   "cell_type": "code",
   "execution_count": 3,
   "metadata": {},
   "outputs": [
    {
     "name": "stdout",
     "output_type": "stream",
     "text": [
      "<=== (<class 'simple_ciphers.Vigenere'>)\n",
      "Blocked ciphertext\t ITDLGAAITCEQWGITZIPAWITUOPQLITWIQASITQIVFP\n",
      "Non-blocked ciphertext\t BZSWGASCSMXWBWCSCBMRUWCWYOW\n",
      "===>\n",
      "<=== (<class 'simple_ciphers.Bifid'>)\n",
      "Blocked ciphertext\t NWBLNZZNCCLLDPNHCEPCRNDCNWITNHCNGCCNHFLGDS\n",
      "Non-blocked ciphertext\t WTTNZCVXLPHSEPRDZIWTHSNGCHR\n",
      "===>\n",
      "<=== (<class 'simple_ciphers.Vigenere'>)\n",
      "Blocked ciphertext\t KVDLGAAKVCEQWGKVZIPAWKVUOPQLKVWIQASKVQIVFP\n",
      "Non-blocked ciphertext\t BZSWGASCSMXWBWCSCBMRUWCWYOW\n",
      "===>\n",
      "<=== (<class 'simple_ciphers.Bifid'>)\n",
      "Blocked ciphertext\t VWBXNZZVCCXLDPVHCOPCRVDCKWITVHCKGCCVHFXGDS\n",
      "Non-blocked ciphertext\t WTTNZCVXLPHSEPRDZIWTHSNGCHR\n",
      "===>\n"
     ]
    }
   ],
   "source": [
    "def apply_cipher(cipher, plaintext, iv=''):\n",
    "    plaintext = plaintext.upper().strip().replace(' ', '')\n",
    "    slices = [plaintext[i:i+5] for i in range(0, len(plaintext), 5)]\n",
    "    slices = [slice if len(slice) == 5 else slice + 'X' * (5 - len(slice)) for slice in slices]\n",
    "    \n",
    "    # Add the IV here!\n",
    "    enciphered_slices = [cipher.encipher(iv + slice) for slice in slices]\n",
    "    print('<=== ({})'.format(type(cipher)))\n",
    "    print('Blocked ciphertext\\t {}'.format(''.join(enciphered_slices)))\n",
    "    print('Non-blocked ciphertext\\t {}'.format(cipher.encipher(plaintext)))\n",
    "    print('===>')\n",
    "\n",
    "iv = 'ab'\n",
    "apply_cipher(cipher=vigenere, plaintext=plaintext, iv=iv)\n",
    "apply_cipher(cipher=bifid, plaintext=plaintext, iv=iv)\n",
    "\n",
    "iv = 'cd'\n",
    "apply_cipher(cipher=vigenere, plaintext=plaintext, iv=iv)\n",
    "apply_cipher(cipher=bifid, plaintext=plaintext, iv=iv)\n"
   ]
  },
  {
   "cell_type": "markdown",
   "metadata": {},
   "source": [
    "Well, this is interesting. Using the IV pretty radically changed the ciphertext. It not only made it longer, but it also changed the letters. So, in this case, we took the blocks of five after having been padded and appended the initialization vector to the beginning of each block. Then we concatenated the blocks, so each block was seven characters long - two characters for the initialization vector and five for the plaintext block.\n",
    "\n",
    "Now, this is still pretty weak, and isn't a recognized cipher block mode, but it does lead is in the right direction. Let's try something else with the IV."
   ]
  },
  {
   "cell_type": "code",
   "execution_count": 4,
   "metadata": {},
   "outputs": [
    {
     "name": "stdout",
     "output_type": "stream",
     "text": [
      "<=== (<class 'simple_ciphers.Vigenere'>)\n",
      "Blocked ciphertext\t BAPTGATZPNXXYTESDYJUUXZTCOXEYA\n",
      "Non-blocked ciphertext\t BZSWGASCSMXWBWCSCBMRUWCWYOW\n",
      "===>\n",
      "<=== (<class 'simple_ciphers.Bifid'>)\n",
      "Blocked ciphertext\t GKIDKFDTZQCHTDGXNWTOZHSDRTHCIZ\n",
      "Non-blocked ciphertext\t WTTNZCVXLPHSEPRDZIWTHSNGCHR\n",
      "===>\n",
      "<=== (<class 'simple_ciphers.Vigenere'>)\n",
      "Blocked ciphertext\t DCPTGCVZPNZZYTEUFYJUWZZTCQZEYA\n",
      "Non-blocked ciphertext\t BZSWGASCSMXWBWCSCBMRUWCWYOW\n",
      "===>\n",
      "<=== (<class 'simple_ciphers.Bifid'>)\n",
      "Blocked ciphertext\t OKIPKNDTLQKHTPGFNWFOHHSPRBHCUZ\n",
      "Non-blocked ciphertext\t WTTNZCVXLPHSEPRDZIWTHSNGCHR\n",
      "===>\n"
     ]
    }
   ],
   "source": [
    "def apply_cipher(cipher, plaintext, iv=''):\n",
    "    plaintext = plaintext.upper().strip().replace(' ', '')\n",
    "    \n",
    "    \n",
    "    slices = [plaintext[i:i+5] for i in range(0, len(plaintext), 5)]\n",
    "    slices = [slice if len(slice) == 5 else slice + 'X' * (5 - len(slice)) for slice in slices]\n",
    "    \n",
    "    enciphered_slices = []\n",
    "    for i, slice in enumerate(slices):\n",
    "        # Convert the counter to a letter, starting from A\n",
    "        cntr = chr(i + 65)\n",
    "        \n",
    "        # Prepend the IV to the counter, pad the counter so the \n",
    "        # combined string is the same length as a block\n",
    "        iv_cntr = iv.upper() + 'X' * (5 - (len(cntr) + len(iv))) + cntr\n",
    "        \n",
    "        # Encipher the IV|CNTR string\n",
    "        cipher_cntr = cipher.encipher(iv_cntr)\n",
    "        \n",
    "        # Encpher the plaintext block with the ciphered IV|CNTR string\n",
    "        # as the key. We're using the Vigenere cipher here, but\n",
    "        # in binary this is an XOR operation.\n",
    "        ciphered_slice = sc.Vigenere(cipher_cntr).encipher(slice)\n",
    "        \n",
    "        # Append the newly enciphered slice\n",
    "        enciphered_slices.append(ciphered_slice)\n",
    "    \n",
    "    \n",
    "    #enciphered_slices = [cipher.encipher(iv + slice) for slice in slices]\n",
    "    print('<=== ({})'.format(type(cipher)))\n",
    "    print('Blocked ciphertext\\t {}'.format(''.join(enciphered_slices)))\n",
    "    print('Non-blocked ciphertext\\t {}'.format(cipher.encipher(plaintext)))\n",
    "    print('===>')\n",
    "\n",
    "iv = 'ab'\n",
    "apply_cipher(cipher=vigenere, plaintext=plaintext, iv=iv)\n",
    "apply_cipher(cipher=bifid, plaintext=plaintext, iv=iv)\n",
    "\n",
    "iv = 'cd'\n",
    "apply_cipher(cipher=vigenere, plaintext=plaintext, iv=iv)\n",
    "apply_cipher(cipher=bifid, plaintext=plaintext, iv=iv)\n"
   ]
  },
  {
   "cell_type": "markdown",
   "metadata": {},
   "source": [
    "So what did we do?\n",
    "\n",
    "We took the IV and prepended it to a counter. Then we encrypted the IV|CNTR string, and we took that string, and used it as a key to a Vigenere cipher to encrypt a block of plaintext. We used this ciphertext to create the enciphered message. So for each block $i$, this is the process we used:\n",
    "\n",
    "$ IV|N_i \\longrightarrow C_i' = E_K(IV|N_i) \\longrightarrow C_i = E_{C_i'}'(P) \\longrightarrow C_i$\n",
    "\n",
    "This is essentially __Counter Mode__, another encryption mode for block ciphers. CTR is officially:\n",
    "\n",
    "$ IV|N_i \\longrightarrow C_i' = E_K(IV|N_i) \\longrightarrow C_i = C_i' \\oplus P_i \\longrightarrow C_i$\n",
    "\n",
    "Described more tersely, CTR is:\n",
    "\n",
    "$C_i = E_k(IV|N_i) \\oplus P_i$\n",
    "\n",
    "So each encrypted block $C_i$ results from the encipherment if the encrypted initialization vector prepended to the counter $IV|N_i$ XOR the plaintext block $P_i$. In the example I used, I didn't use XOR because I'm not using binary data - the example is just illustrative. Nevertheless, modern encryption encrypts over binary strings, and would use XOR.\n",
    "\n",
    "What else can we do?"
   ]
  },
  {
   "cell_type": "code",
   "execution_count": 6,
   "metadata": {},
   "outputs": [
    {
     "name": "stdout",
     "output_type": "stream",
     "text": [
      "<=== (<class 'simple_ciphers.Vigenere'>)\n",
      "Blocked ciphertext\t BASXGBSUPSYOVLUQQWXLKMYTJYIFUE\n",
      "Non-blocked ciphertext\t BZSWGASCSMXWBWCSCBMRUWCWYOW\n",
      "===>\n",
      "<=== (<class 'simple_ciphers.Bifid'>)\n",
      "Blocked ciphertext\t IITIZNNATMSCHPVRYFURXOVLWXZUST\n",
      "Non-blocked ciphertext\t WTTNZCVXLPHSEPRDZIWTHSNGCHR\n",
      "===>\n",
      "<=== (<class 'simple_ciphers.Vigenere'>)\n",
      "Blocked ciphertext\t DCUZIDUWRUAQXNWSSYZNMOAVLAKHWG\n",
      "Non-blocked ciphertext\t BZSWGASCSMXWBWCSCBMRUWCWYOW\n",
      "===>\n",
      "<=== (<class 'simple_ciphers.Bifid'>)\n",
      "Blocked ciphertext\t VXDIKYZNVQYAIOUUZNIMQFGFNIXOUN\n",
      "Non-blocked ciphertext\t WTTNZCVXLPHSEPRDZIWTHSNGCHR\n",
      "===>\n"
     ]
    }
   ],
   "source": [
    "def apply_cipher(cipher, plaintext, iv=''):\n",
    "    plaintext = plaintext.upper().strip().replace(' ', '')\n",
    "    \n",
    "    \n",
    "    slices = [plaintext[i:i+5] for i in range(0, len(plaintext), 5)]\n",
    "    slices = [slice if len(slice) == 5 else slice + 'X' * (5 - len(slice)) for slice in slices]\n",
    "    \n",
    "    c_1 = cipher.encipher(sc.Vigenere(iv.upper()).encipher(slices[0]))\n",
    "    slices = slices[1:len(slices)]\n",
    "    enciphered_slices = []\n",
    "    enciphered_slices.append(c_1)\n",
    "    enciphered_slice = c_1\n",
    "    for i, slice in enumerate(slices):\n",
    "        # Encipher a new slice using the ciphertext of the previous operation\n",
    "        # as the key to the embedded cipher\n",
    "        enciphered_slice = cipher.encipher(sc.Vigenere(enciphered_slice).encipher(slice))\n",
    "        \n",
    "        # Append the newly enciphered slice\n",
    "        enciphered_slices.append(enciphered_slice)\n",
    "    \n",
    "    \n",
    "    #enciphered_slices = [cipher.encipher(iv + slice) for slice in slices]\n",
    "    print('<=== ({})'.format(type(cipher)))\n",
    "    print('Blocked ciphertext\\t {}'.format(''.join(enciphered_slices)))\n",
    "    print('Non-blocked ciphertext\\t {}'.format(cipher.encipher(plaintext)))\n",
    "    print('===>')\n",
    "\n",
    "iv = 'ab'\n",
    "apply_cipher(cipher=vigenere, plaintext=plaintext, iv=iv)\n",
    "apply_cipher(cipher=bifid, plaintext=plaintext, iv=iv)\n",
    "\n",
    "iv = 'cd'\n",
    "apply_cipher(cipher=vigenere, plaintext=plaintext, iv=iv)\n",
    "apply_cipher(cipher=bifid, plaintext=plaintext, iv=iv)\n"
   ]
  },
  {
   "cell_type": "markdown",
   "metadata": {},
   "source": [
    "Here, we've done something a little different. We use the ciphertext from the previous calculation as a key to encipher the next block. The drawback to this approach is that it then requires each calculation to happen serially. So, the above operation looks like this:\n",
    "\n",
    "$ i = 1 : IV \\longrightarrow C_1 = E_K(E_{IV}(P_1)) \\longrightarrow C_1$; \n",
    "\n",
    "$ i > 1 : C_1 \\longrightarrow C_i = E_K(E_{C_{i-1}}(P_i)) \\longrightarrow C_i$\n",
    "\n",
    "This is essentially __Cipher Block Chaining__ mode, another encryption mode for block ciphers. CBC is officially:\n",
    "\n",
    "$ i = 1 : C_1 = E_K(P_1 \\oplus IV) $; \n",
    "\n",
    "$ i > 1 : C_i = E_K(P_i \\oplus C_{i-1}) $\n",
    "\n",
    "These are two block modes. There are two others supported defined by NIST for use with block ciphers, including __Cipher Feedback Mode__ and __Output Feedback Mode__. They act in similar ways. The point of these manipulations is to avoid using the same key over the same sequence of symbols (letters or bits). In either case, if you use the same key over the same information, the cipher text will be the same. This greatly helps cryptanalysis. You __never__ use the same initialization vector with the same plaintext. Generally, you want to avoid using the same initialization vector period.\n"
   ]
  }
 ],
 "metadata": {
  "kernelspec": {
   "display_name": "Python 3",
   "language": "python",
   "name": "python3"
  },
  "language_info": {
   "codemirror_mode": {
    "name": "ipython",
    "version": 3
   },
   "file_extension": ".py",
   "mimetype": "text/x-python",
   "name": "python",
   "nbconvert_exporter": "python",
   "pygments_lexer": "ipython3",
   "version": "3.7.3"
  }
 },
 "nbformat": 4,
 "nbformat_minor": 2
}
